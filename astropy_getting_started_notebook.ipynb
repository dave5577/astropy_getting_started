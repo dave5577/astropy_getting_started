{
 "cells": [
  {
   "cell_type": "code",
   "execution_count": 1,
   "metadata": {},
   "outputs": [],
   "source": [
    "import numpy as np\n",
    "from astropy import units as u\n",
    "from astropy.time import Time\n",
    "from astropy.coordinates import SkyCoord\n",
    "from astropy.coordinates import EarthLocation\n",
    "import pytz\n",
    "%matplotlib inline\n",
    "from astroplan import Observer, FixedTarget\n",
    "from astropy.utils.iers import conf\n",
    "conf.auto_max_age = None\n",
    "from astroplan import download_IERS_A \n",
    "from astropy.coordinates import get_sun, get_moon, get_body\n",
    "from astroplan import moon_illumination"
   ]
  },
  {
   "cell_type": "code",
   "execution_count": 3,
   "metadata": {},
   "outputs": [
    {
     "name": "stdout",
     "output_type": "stream",
     "text": [
      "2019-05-06 00:00:00.000\n"
     ]
    }
   ],
   "source": [
    "date = Time(\"2019-05-06\", format='iso')\n",
    "print(date)"
   ]
  },
  {
   "cell_type": "markdown",
   "metadata": {},
   "source": [
    "# Find time now"
   ]
  },
  {
   "cell_type": "code",
   "execution_count": 13,
   "metadata": {},
   "outputs": [
    {
     "name": "stdout",
     "output_type": "stream",
     "text": [
      "2019-05-06 22:06:38.018412\n",
      "2458610.4212733614\n",
      "58609.92127336125\n",
      "2019.344989790031\n"
     ]
    }
   ],
   "source": [
    "now = Time.now()\n",
    "print(now)\n",
    "print(now.jd)\n",
    "print(now.mjd)\n",
    "print(now.decimalyear)"
   ]
  },
  {
   "cell_type": "markdown",
   "metadata": {},
   "source": [
    "# Update UT1"
   ]
  },
  {
   "cell_type": "code",
   "execution_count": 5,
   "metadata": {},
   "outputs": [],
   "source": [
    "download_IERS_A()"
   ]
  },
  {
   "cell_type": "code",
   "execution_count": 6,
   "metadata": {},
   "outputs": [
    {
     "name": "stdout",
     "output_type": "stream",
     "text": [
      "Available observatories: \n",
      ", , , ALMA, ATST, Anglo-Australian Observatory, Apache Point, Apache Point Observatory, Atacama Large Millimeter Array, BAO, BBSO, Beijing XingLong Observatory, Black Moshannon Observatory, CHARA, Canada-France-Hawaii Telescope, Catalina Observatory, Cerro Pachon, Cerro Paranal, Cerro Tololo, Cerro Tololo Interamerican Observatory, DCT, DKIST, Discovery Channel Telescope, Dominion Astrophysical Observatory, GBT, Gemini South, Green Bank Telescope, Hale Telescope, Haleakala Observatories, Happy Jack, IAO, JCMT, James Clerk Maxwell Telescope, Jansky Very Large Array, Keck Observatory, Kitt Peak, Kitt Peak National Observatory, La Silla Observatory, Large Binocular Telescope, Las Campanas Observatory, Lick Observatory, Lowell Observatory, MWA, Manastash Ridge Observatory, McDonald Observatory, Medicina, Medicina Dish, Michigan-Dartmouth-MIT Observatory, Mount Graham International Observatory, Mt Graham, Mt. Ekar 182 cm. Telescope, Mt. Stromlo Observatory, Multiple Mirror Telescope, Murchison Widefield Array, NOV, NST, National Observatory of Venezuela, Noto, Observatorio Astronomico Nacional, San Pedro Martir, Observatorio Astronomico Nacional, Tonantzintla, Palomar, Paranal Observatory, Roque de los Muchachos, SAAO, SALT, SPO, SRT, Sac Peak, Sacramento Peak, Siding Spring Observatory, Southern African Large Telescope, Subaru, Subaru Telescope, Sunspot, Sutherland, TUG, UKIRT, United Kingdom Infrared Telescope, Vainu Bappu Observatory, Very Large Array, W. M. Keck Observatory, Whipple, Whipple Observatory, aao, alma, apo, bbso, bmo, cfht, ctio, dao, dct, dkist, ekar, example_site, flwo, gbt, gemini_north, gemini_south, gemn, gems, greenwich, haleakala, iao, irtf, jcmt, keck, kpno, lapalma, lasilla, lbt, lco, lick, lowell, mcdonald, mdm, medicina, mmt, mro, mso, mtbigelow, mwa, mwo, noto, ohp, paranal, salt, sirene, spm, spo, srt, sso, tona, tug, ukirt, vbo, vla\n"
     ]
    }
   ],
   "source": [
    "print(\"Available observatories: \\n{0}\"\n",
    "      .format(', '.join(EarthLocation.get_site_names())))"
   ]
  },
  {
   "cell_type": "markdown",
   "metadata": {},
   "source": [
    "# My house doesn't exist so let's create it as an observatory!\n",
    "\n",
    "Greenheys Road lat/lon are below in DMS:\n",
    "lat:53d23m24s\n",
    "lon:2d57m5s\n",
    "ele:57m"
   ]
  },
  {
   "cell_type": "code",
   "execution_count": 11,
   "metadata": {},
   "outputs": [
    {
     "data": {
      "text/plain": [
       "<Observer: name='DAO',\n",
       "    location (lon, lat, el)=(53.39 deg, 2.951388888888889 deg, 57.00000000022749 m),\n",
       "    timezone=<UTC>>"
      ]
     },
     "execution_count": 11,
     "metadata": {},
     "output_type": "execute_result"
    }
   ],
   "source": [
    "#Dave's Astronomical Observatory is not listed in the database, so let's define the location\n",
    "longitude = '53d23m24s'\n",
    "latitude = '2d57m5s'\n",
    "elevation = 57 * u.m\n",
    "location = EarthLocation.from_geodetic(longitude, latitude, elevation)\n",
    "daohanle = Observer(location = location, timezone = 'utc',\n",
    "                             name = \"DAO\", description = \"ARI - Dave's Astronomical Observatory Liverpool\")\n",
    "daohanle"
   ]
  },
  {
   "cell_type": "markdown",
   "metadata": {},
   "source": [
    "# Calc Sunset, Sunrise and Midnight"
   ]
  },
  {
   "cell_type": "code",
   "execution_count": 12,
   "metadata": {},
   "outputs": [
    {
     "name": "stdout",
     "output_type": "stream",
     "text": [
      "Sunset at DAO will be at 2019-05-06 14:26:35.886 UTC\n",
      "Astronomical evening twilight at DAO will be at 2019-05-06 15:42:08.837 UTC\n",
      "Midnight at DAO will be at 2019-05-06 20:23:00.544 UTC\n",
      "Astronomical morning twilight at DAO will be at 2019-05-07 01:03:55.928 UTC\n",
      "Sunrise at DAO will be at 2019-05-07 02:19:31.375 UTC\n"
     ]
    }
   ],
   "source": [
    "#Calculating the sunset, midnight and sunrise times for our observatory \n",
    "#What is astronomical twilight?\n",
    "sunset_dao = daohanle.sun_set_time(now, which='nearest')\n",
    "eve_twil_dao = daohanle.twilight_evening_astronomical(now, which='nearest')\n",
    "midnight_dao = daohanle.midnight(now, which='next')\n",
    "morn_twil_dao = daohanle.twilight_morning_astronomical(now, which='next')\n",
    "sunrise_dao = daohanle.sun_rise_time(now, which='next')\n",
    "\n",
    "print(\"Sunset at DAO will be at {0.iso} UTC\".format(sunset_dao))\n",
    "print(\"Astronomical evening twilight at DAO will be at {0.iso} UTC\".format(eve_twil_dao))\n",
    "print(\"Midnight at DAO will be at {0.iso} UTC\".format(midnight_dao))\n",
    "print(\"Astronomical morning twilight at DAO will be at {0.iso} UTC\".format(morn_twil_dao))\n",
    "print(\"Sunrise at DAO will be at {0.iso} UTC\".format(sunrise_dao))"
   ]
  },
  {
   "cell_type": "code",
   "execution_count": null,
   "metadata": {},
   "outputs": [],
   "source": []
  }
 ],
 "metadata": {
  "kernelspec": {
   "display_name": "Python 3",
   "language": "python",
   "name": "python3"
  },
  "language_info": {
   "codemirror_mode": {
    "name": "ipython",
    "version": 3
   },
   "file_extension": ".py",
   "mimetype": "text/x-python",
   "name": "python",
   "nbconvert_exporter": "python",
   "pygments_lexer": "ipython3",
   "version": "3.7.3"
  }
 },
 "nbformat": 4,
 "nbformat_minor": 2
}
